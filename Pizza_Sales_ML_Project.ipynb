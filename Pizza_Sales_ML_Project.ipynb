{
  "nbformat": 4,
  "nbformat_minor": 0,
  "metadata": {
    "colab": {
      "provenance": [],
      "authorship_tag": "ABX9TyNsACQY3G5o5NaWLRtxQLXN",
      "include_colab_link": true
    },
    "kernelspec": {
      "name": "python3",
      "display_name": "Python 3"
    },
    "language_info": {
      "name": "python"
    }
  },
  "cells": [
    {
      "cell_type": "markdown",
      "metadata": {
        "id": "view-in-github",
        "colab_type": "text"
      },
      "source": [
        "<a href=\"https://colab.research.google.com/github/summerolmstead/Sales-Prediction/blob/main/Pizza_Sales_ML_Project.ipynb\" target=\"_parent\"><img src=\"https://colab.research.google.com/assets/colab-badge.svg\" alt=\"Open In Colab\"/></a>"
      ]
    },
    {
      "cell_type": "markdown",
      "source": [
        "Team Project | Pizza Prediction Sales\n",
        "\n",
        "Summer, Jason, Victoria, Regan"
      ],
      "metadata": {
        "id": "XTXvWQWgEYay"
      }
    },
    {
      "cell_type": "markdown",
      "source": [
        "#Importing Data in"
      ],
      "metadata": {
        "id": "z2dK6Qscz77K"
      }
    },
    {
      "cell_type": "code",
      "execution_count": 178,
      "metadata": {
        "colab": {
          "base_uri": "https://localhost:8080/"
        },
        "id": "UFx0wi1WEV7u",
        "outputId": "b019f318-d98d-4caf-ee6b-d189dad193a6"
      },
      "outputs": [
        {
          "output_type": "stream",
          "name": "stdout",
          "text": [
            "Path to dataset files: /root/.cache/kagglehub/datasets/rhonarosecortez/pizza-sales-dataset/versions/2\n"
          ]
        }
      ],
      "source": [
        "import kagglehub\n",
        "\n",
        "# Download latest version\n",
        "path = kagglehub.dataset_download(\"rhonarosecortez/pizza-sales-dataset\") #importing from kaggle\n",
        "\n",
        "print(\"Path to dataset files:\", path) # path to the file"
      ]
    },
    {
      "cell_type": "code",
      "source": [
        "import os\n",
        "dataset_files = os.listdir(path)\n",
        "print(\"Dataset files:\", dataset_files)"
      ],
      "metadata": {
        "colab": {
          "base_uri": "https://localhost:8080/"
        },
        "id": "Js_8PCSUE3xT",
        "outputId": "d14c1e7b-1bea-4cf5-d604-1bcb4b0ad114"
      },
      "execution_count": 179,
      "outputs": [
        {
          "output_type": "stream",
          "name": "stdout",
          "text": [
            "Dataset files: ['Pizza Sales Dataset.csv']\n"
          ]
        }
      ]
    },
    {
      "cell_type": "code",
      "source": [
        "import pandas as pd\n",
        "csv_file_path = os.path.join(path, 'Pizza Sales Dataset.csv')\n",
        "df = pd.read_csv(csv_file_path)\n",
        "\n",
        "print(df.head()) # seeing structure of data"
      ],
      "metadata": {
        "colab": {
          "base_uri": "https://localhost:8080/"
        },
        "id": "ntzNj_aCFD1R",
        "outputId": "cc24dba9-f1f0-4134-9df5-a79bbdd5386c"
      },
      "execution_count": 180,
      "outputs": [
        {
          "output_type": "stream",
          "name": "stdout",
          "text": [
            "   pizza_id  order_id  pizza_name_id  quantity order_date order_day  \\\n",
            "0         1         1     hawaiian_m         1   1/1/2015  Thursday   \n",
            "1         2         2  classic_dlx_m         1   1/1/2015  Thursday   \n",
            "2         3         2  five_cheese_l         1   1/1/2015  Thursday   \n",
            "3         4         2    ital_supr_l         1   1/1/2015  Thursday   \n",
            "4         5         2     mexicana_m         1   1/1/2015  Thursday   \n",
            "\n",
            "  order_time  unit_price  total_price pizza_size pizza_category  \\\n",
            "0   11:38:36       13.25        13.25          M        Classic   \n",
            "1   11:57:40       16.00        16.00          M        Classic   \n",
            "2   11:57:40       18.50        18.50          L         Veggie   \n",
            "3   11:57:40       20.75        20.75          L        Supreme   \n",
            "4   11:57:40       16.00        16.00          M         Veggie   \n",
            "\n",
            "                                   pizza_ingredients  \\\n",
            "0           Sliced Ham, Pineapple, Mozzarella Cheese   \n",
            "1  Pepperoni, Mushrooms, Red Onions, Red Peppers,...   \n",
            "2  Mozzarella Cheese, Provolone Cheese, Smoked Go...   \n",
            "3  Calabrese Salami, Capocollo, Tomatoes, Red Oni...   \n",
            "4  Tomatoes, Red Peppers, Jalapeno Peppers, Red O...   \n",
            "\n",
            "                  pizza_name  \n",
            "0         The Hawaiian Pizza  \n",
            "1   The Classic Deluxe Pizza  \n",
            "2      The Five Cheese Pizza  \n",
            "3  The Italian Supreme Pizza  \n",
            "4         The Mexicana Pizza  \n"
          ]
        }
      ]
    },
    {
      "cell_type": "code",
      "source": [
        "# Print all unique values in the 'order_day' column\n",
        "print(df['order_day'].unique())\n",
        "\n",
        "# Print the first few rows of the dataframe to inspect\n",
        "print(df.head())"
      ],
      "metadata": {
        "colab": {
          "base_uri": "https://localhost:8080/"
        },
        "id": "5Nele00_w1-s",
        "outputId": "2a095862-5a82-4ab2-eec3-1e8bad3b8286"
      },
      "execution_count": 181,
      "outputs": [
        {
          "output_type": "stream",
          "name": "stdout",
          "text": [
            "['Thursday' 'Friday' 'Saturday' 'Sunday' 'Monday' 'Tuesday' 'Wednesday']\n",
            "   pizza_id  order_id  pizza_name_id  quantity order_date order_day  \\\n",
            "0         1         1     hawaiian_m         1   1/1/2015  Thursday   \n",
            "1         2         2  classic_dlx_m         1   1/1/2015  Thursday   \n",
            "2         3         2  five_cheese_l         1   1/1/2015  Thursday   \n",
            "3         4         2    ital_supr_l         1   1/1/2015  Thursday   \n",
            "4         5         2     mexicana_m         1   1/1/2015  Thursday   \n",
            "\n",
            "  order_time  unit_price  total_price pizza_size pizza_category  \\\n",
            "0   11:38:36       13.25        13.25          M        Classic   \n",
            "1   11:57:40       16.00        16.00          M        Classic   \n",
            "2   11:57:40       18.50        18.50          L         Veggie   \n",
            "3   11:57:40       20.75        20.75          L        Supreme   \n",
            "4   11:57:40       16.00        16.00          M         Veggie   \n",
            "\n",
            "                                   pizza_ingredients  \\\n",
            "0           Sliced Ham, Pineapple, Mozzarella Cheese   \n",
            "1  Pepperoni, Mushrooms, Red Onions, Red Peppers,...   \n",
            "2  Mozzarella Cheese, Provolone Cheese, Smoked Go...   \n",
            "3  Calabrese Salami, Capocollo, Tomatoes, Red Oni...   \n",
            "4  Tomatoes, Red Peppers, Jalapeno Peppers, Red O...   \n",
            "\n",
            "                  pizza_name  \n",
            "0         The Hawaiian Pizza  \n",
            "1   The Classic Deluxe Pizza  \n",
            "2      The Five Cheese Pizza  \n",
            "3  The Italian Supreme Pizza  \n",
            "4         The Mexicana Pizza  \n"
          ]
        }
      ]
    },
    {
      "cell_type": "markdown",
      "source": [
        "# Basic Check of the Data"
      ],
      "metadata": {
        "id": "JWMgIAOh0ANS"
      }
    },
    {
      "cell_type": "code",
      "source": [
        "df.describe() # seeing summary statistics"
      ],
      "metadata": {
        "colab": {
          "base_uri": "https://localhost:8080/",
          "height": 300
        },
        "id": "sApAgsQ1PCFl",
        "outputId": "ba442c2f-8b49-441e-c081-2453cfa641fc"
      },
      "execution_count": 182,
      "outputs": [
        {
          "output_type": "execute_result",
          "data": {
            "text/plain": [
              "           pizza_id      order_id      quantity    unit_price   total_price\n",
              "count  48620.000000  48620.000000  48620.000000  48620.000000  48620.000000\n",
              "mean   24310.500000  10701.479761      1.019622     16.494132     16.821474\n",
              "std    14035.529381   6180.119770      0.143077      3.621789      4.437398\n",
              "min        1.000000      1.000000      1.000000      9.750000      9.750000\n",
              "25%    12155.750000   5337.000000      1.000000     12.750000     12.750000\n",
              "50%    24310.500000  10682.500000      1.000000     16.500000     16.500000\n",
              "75%    36465.250000  16100.000000      1.000000     20.250000     20.500000\n",
              "max    48620.000000  21350.000000      4.000000     35.950000     83.000000"
            ],
            "text/html": [
              "\n",
              "  <div id=\"df-9a232b55-65aa-423d-b6df-927fd4f05583\" class=\"colab-df-container\">\n",
              "    <div>\n",
              "<style scoped>\n",
              "    .dataframe tbody tr th:only-of-type {\n",
              "        vertical-align: middle;\n",
              "    }\n",
              "\n",
              "    .dataframe tbody tr th {\n",
              "        vertical-align: top;\n",
              "    }\n",
              "\n",
              "    .dataframe thead th {\n",
              "        text-align: right;\n",
              "    }\n",
              "</style>\n",
              "<table border=\"1\" class=\"dataframe\">\n",
              "  <thead>\n",
              "    <tr style=\"text-align: right;\">\n",
              "      <th></th>\n",
              "      <th>pizza_id</th>\n",
              "      <th>order_id</th>\n",
              "      <th>quantity</th>\n",
              "      <th>unit_price</th>\n",
              "      <th>total_price</th>\n",
              "    </tr>\n",
              "  </thead>\n",
              "  <tbody>\n",
              "    <tr>\n",
              "      <th>count</th>\n",
              "      <td>48620.000000</td>\n",
              "      <td>48620.000000</td>\n",
              "      <td>48620.000000</td>\n",
              "      <td>48620.000000</td>\n",
              "      <td>48620.000000</td>\n",
              "    </tr>\n",
              "    <tr>\n",
              "      <th>mean</th>\n",
              "      <td>24310.500000</td>\n",
              "      <td>10701.479761</td>\n",
              "      <td>1.019622</td>\n",
              "      <td>16.494132</td>\n",
              "      <td>16.821474</td>\n",
              "    </tr>\n",
              "    <tr>\n",
              "      <th>std</th>\n",
              "      <td>14035.529381</td>\n",
              "      <td>6180.119770</td>\n",
              "      <td>0.143077</td>\n",
              "      <td>3.621789</td>\n",
              "      <td>4.437398</td>\n",
              "    </tr>\n",
              "    <tr>\n",
              "      <th>min</th>\n",
              "      <td>1.000000</td>\n",
              "      <td>1.000000</td>\n",
              "      <td>1.000000</td>\n",
              "      <td>9.750000</td>\n",
              "      <td>9.750000</td>\n",
              "    </tr>\n",
              "    <tr>\n",
              "      <th>25%</th>\n",
              "      <td>12155.750000</td>\n",
              "      <td>5337.000000</td>\n",
              "      <td>1.000000</td>\n",
              "      <td>12.750000</td>\n",
              "      <td>12.750000</td>\n",
              "    </tr>\n",
              "    <tr>\n",
              "      <th>50%</th>\n",
              "      <td>24310.500000</td>\n",
              "      <td>10682.500000</td>\n",
              "      <td>1.000000</td>\n",
              "      <td>16.500000</td>\n",
              "      <td>16.500000</td>\n",
              "    </tr>\n",
              "    <tr>\n",
              "      <th>75%</th>\n",
              "      <td>36465.250000</td>\n",
              "      <td>16100.000000</td>\n",
              "      <td>1.000000</td>\n",
              "      <td>20.250000</td>\n",
              "      <td>20.500000</td>\n",
              "    </tr>\n",
              "    <tr>\n",
              "      <th>max</th>\n",
              "      <td>48620.000000</td>\n",
              "      <td>21350.000000</td>\n",
              "      <td>4.000000</td>\n",
              "      <td>35.950000</td>\n",
              "      <td>83.000000</td>\n",
              "    </tr>\n",
              "  </tbody>\n",
              "</table>\n",
              "</div>\n",
              "    <div class=\"colab-df-buttons\">\n",
              "\n",
              "  <div class=\"colab-df-container\">\n",
              "    <button class=\"colab-df-convert\" onclick=\"convertToInteractive('df-9a232b55-65aa-423d-b6df-927fd4f05583')\"\n",
              "            title=\"Convert this dataframe to an interactive table.\"\n",
              "            style=\"display:none;\">\n",
              "\n",
              "  <svg xmlns=\"http://www.w3.org/2000/svg\" height=\"24px\" viewBox=\"0 -960 960 960\">\n",
              "    <path d=\"M120-120v-720h720v720H120Zm60-500h600v-160H180v160Zm220 220h160v-160H400v160Zm0 220h160v-160H400v160ZM180-400h160v-160H180v160Zm440 0h160v-160H620v160ZM180-180h160v-160H180v160Zm440 0h160v-160H620v160Z\"/>\n",
              "  </svg>\n",
              "    </button>\n",
              "\n",
              "  <style>\n",
              "    .colab-df-container {\n",
              "      display:flex;\n",
              "      gap: 12px;\n",
              "    }\n",
              "\n",
              "    .colab-df-convert {\n",
              "      background-color: #E8F0FE;\n",
              "      border: none;\n",
              "      border-radius: 50%;\n",
              "      cursor: pointer;\n",
              "      display: none;\n",
              "      fill: #1967D2;\n",
              "      height: 32px;\n",
              "      padding: 0 0 0 0;\n",
              "      width: 32px;\n",
              "    }\n",
              "\n",
              "    .colab-df-convert:hover {\n",
              "      background-color: #E2EBFA;\n",
              "      box-shadow: 0px 1px 2px rgba(60, 64, 67, 0.3), 0px 1px 3px 1px rgba(60, 64, 67, 0.15);\n",
              "      fill: #174EA6;\n",
              "    }\n",
              "\n",
              "    .colab-df-buttons div {\n",
              "      margin-bottom: 4px;\n",
              "    }\n",
              "\n",
              "    [theme=dark] .colab-df-convert {\n",
              "      background-color: #3B4455;\n",
              "      fill: #D2E3FC;\n",
              "    }\n",
              "\n",
              "    [theme=dark] .colab-df-convert:hover {\n",
              "      background-color: #434B5C;\n",
              "      box-shadow: 0px 1px 3px 1px rgba(0, 0, 0, 0.15);\n",
              "      filter: drop-shadow(0px 1px 2px rgba(0, 0, 0, 0.3));\n",
              "      fill: #FFFFFF;\n",
              "    }\n",
              "  </style>\n",
              "\n",
              "    <script>\n",
              "      const buttonEl =\n",
              "        document.querySelector('#df-9a232b55-65aa-423d-b6df-927fd4f05583 button.colab-df-convert');\n",
              "      buttonEl.style.display =\n",
              "        google.colab.kernel.accessAllowed ? 'block' : 'none';\n",
              "\n",
              "      async function convertToInteractive(key) {\n",
              "        const element = document.querySelector('#df-9a232b55-65aa-423d-b6df-927fd4f05583');\n",
              "        const dataTable =\n",
              "          await google.colab.kernel.invokeFunction('convertToInteractive',\n",
              "                                                    [key], {});\n",
              "        if (!dataTable) return;\n",
              "\n",
              "        const docLinkHtml = 'Like what you see? Visit the ' +\n",
              "          '<a target=\"_blank\" href=https://colab.research.google.com/notebooks/data_table.ipynb>data table notebook</a>'\n",
              "          + ' to learn more about interactive tables.';\n",
              "        element.innerHTML = '';\n",
              "        dataTable['output_type'] = 'display_data';\n",
              "        await google.colab.output.renderOutput(dataTable, element);\n",
              "        const docLink = document.createElement('div');\n",
              "        docLink.innerHTML = docLinkHtml;\n",
              "        element.appendChild(docLink);\n",
              "      }\n",
              "    </script>\n",
              "  </div>\n",
              "\n",
              "\n",
              "<div id=\"df-7c478eea-0f48-4111-8ddc-b15f9574e4ac\">\n",
              "  <button class=\"colab-df-quickchart\" onclick=\"quickchart('df-7c478eea-0f48-4111-8ddc-b15f9574e4ac')\"\n",
              "            title=\"Suggest charts\"\n",
              "            style=\"display:none;\">\n",
              "\n",
              "<svg xmlns=\"http://www.w3.org/2000/svg\" height=\"24px\"viewBox=\"0 0 24 24\"\n",
              "     width=\"24px\">\n",
              "    <g>\n",
              "        <path d=\"M19 3H5c-1.1 0-2 .9-2 2v14c0 1.1.9 2 2 2h14c1.1 0 2-.9 2-2V5c0-1.1-.9-2-2-2zM9 17H7v-7h2v7zm4 0h-2V7h2v10zm4 0h-2v-4h2v4z\"/>\n",
              "    </g>\n",
              "</svg>\n",
              "  </button>\n",
              "\n",
              "<style>\n",
              "  .colab-df-quickchart {\n",
              "      --bg-color: #E8F0FE;\n",
              "      --fill-color: #1967D2;\n",
              "      --hover-bg-color: #E2EBFA;\n",
              "      --hover-fill-color: #174EA6;\n",
              "      --disabled-fill-color: #AAA;\n",
              "      --disabled-bg-color: #DDD;\n",
              "  }\n",
              "\n",
              "  [theme=dark] .colab-df-quickchart {\n",
              "      --bg-color: #3B4455;\n",
              "      --fill-color: #D2E3FC;\n",
              "      --hover-bg-color: #434B5C;\n",
              "      --hover-fill-color: #FFFFFF;\n",
              "      --disabled-bg-color: #3B4455;\n",
              "      --disabled-fill-color: #666;\n",
              "  }\n",
              "\n",
              "  .colab-df-quickchart {\n",
              "    background-color: var(--bg-color);\n",
              "    border: none;\n",
              "    border-radius: 50%;\n",
              "    cursor: pointer;\n",
              "    display: none;\n",
              "    fill: var(--fill-color);\n",
              "    height: 32px;\n",
              "    padding: 0;\n",
              "    width: 32px;\n",
              "  }\n",
              "\n",
              "  .colab-df-quickchart:hover {\n",
              "    background-color: var(--hover-bg-color);\n",
              "    box-shadow: 0 1px 2px rgba(60, 64, 67, 0.3), 0 1px 3px 1px rgba(60, 64, 67, 0.15);\n",
              "    fill: var(--button-hover-fill-color);\n",
              "  }\n",
              "\n",
              "  .colab-df-quickchart-complete:disabled,\n",
              "  .colab-df-quickchart-complete:disabled:hover {\n",
              "    background-color: var(--disabled-bg-color);\n",
              "    fill: var(--disabled-fill-color);\n",
              "    box-shadow: none;\n",
              "  }\n",
              "\n",
              "  .colab-df-spinner {\n",
              "    border: 2px solid var(--fill-color);\n",
              "    border-color: transparent;\n",
              "    border-bottom-color: var(--fill-color);\n",
              "    animation:\n",
              "      spin 1s steps(1) infinite;\n",
              "  }\n",
              "\n",
              "  @keyframes spin {\n",
              "    0% {\n",
              "      border-color: transparent;\n",
              "      border-bottom-color: var(--fill-color);\n",
              "      border-left-color: var(--fill-color);\n",
              "    }\n",
              "    20% {\n",
              "      border-color: transparent;\n",
              "      border-left-color: var(--fill-color);\n",
              "      border-top-color: var(--fill-color);\n",
              "    }\n",
              "    30% {\n",
              "      border-color: transparent;\n",
              "      border-left-color: var(--fill-color);\n",
              "      border-top-color: var(--fill-color);\n",
              "      border-right-color: var(--fill-color);\n",
              "    }\n",
              "    40% {\n",
              "      border-color: transparent;\n",
              "      border-right-color: var(--fill-color);\n",
              "      border-top-color: var(--fill-color);\n",
              "    }\n",
              "    60% {\n",
              "      border-color: transparent;\n",
              "      border-right-color: var(--fill-color);\n",
              "    }\n",
              "    80% {\n",
              "      border-color: transparent;\n",
              "      border-right-color: var(--fill-color);\n",
              "      border-bottom-color: var(--fill-color);\n",
              "    }\n",
              "    90% {\n",
              "      border-color: transparent;\n",
              "      border-bottom-color: var(--fill-color);\n",
              "    }\n",
              "  }\n",
              "</style>\n",
              "\n",
              "  <script>\n",
              "    async function quickchart(key) {\n",
              "      const quickchartButtonEl =\n",
              "        document.querySelector('#' + key + ' button');\n",
              "      quickchartButtonEl.disabled = true;  // To prevent multiple clicks.\n",
              "      quickchartButtonEl.classList.add('colab-df-spinner');\n",
              "      try {\n",
              "        const charts = await google.colab.kernel.invokeFunction(\n",
              "            'suggestCharts', [key], {});\n",
              "      } catch (error) {\n",
              "        console.error('Error during call to suggestCharts:', error);\n",
              "      }\n",
              "      quickchartButtonEl.classList.remove('colab-df-spinner');\n",
              "      quickchartButtonEl.classList.add('colab-df-quickchart-complete');\n",
              "    }\n",
              "    (() => {\n",
              "      let quickchartButtonEl =\n",
              "        document.querySelector('#df-7c478eea-0f48-4111-8ddc-b15f9574e4ac button');\n",
              "      quickchartButtonEl.style.display =\n",
              "        google.colab.kernel.accessAllowed ? 'block' : 'none';\n",
              "    })();\n",
              "  </script>\n",
              "</div>\n",
              "\n",
              "    </div>\n",
              "  </div>\n"
            ],
            "application/vnd.google.colaboratory.intrinsic+json": {
              "type": "dataframe",
              "summary": "{\n  \"name\": \"df\",\n  \"rows\": 8,\n  \"fields\": [\n    {\n      \"column\": \"pizza_id\",\n      \"properties\": {\n        \"dtype\": \"number\",\n        \"std\": 17522.57843564067,\n        \"min\": 1.0,\n        \"max\": 48620.0,\n        \"num_unique_values\": 6,\n        \"samples\": [\n          48620.0,\n          24310.5,\n          36465.25\n        ],\n        \"semantic_type\": \"\",\n        \"description\": \"\"\n      }\n    },\n    {\n      \"column\": \"order_id\",\n      \"properties\": {\n        \"dtype\": \"number\",\n        \"std\": 15141.979335301296,\n        \"min\": 1.0,\n        \"max\": 48620.0,\n        \"num_unique_values\": 8,\n        \"samples\": [\n          10701.479761415056,\n          10682.5,\n          48620.0\n        ],\n        \"semantic_type\": \"\",\n        \"description\": \"\"\n      }\n    },\n    {\n      \"column\": \"quantity\",\n      \"properties\": {\n        \"dtype\": \"number\",\n        \"std\": 17189.303102156584,\n        \"min\": 0.14307700932475953,\n        \"max\": 48620.0,\n        \"num_unique_values\": 5,\n        \"samples\": [\n          1.0196215549156726,\n          4.0,\n          0.14307700932475953\n        ],\n        \"semantic_type\": \"\",\n        \"description\": \"\"\n      }\n    },\n    {\n      \"column\": \"unit_price\",\n      \"properties\": {\n        \"dtype\": \"number\",\n        \"std\": 17183.94408523473,\n        \"min\": 3.6217891586575077,\n        \"max\": 48620.0,\n        \"num_unique_values\": 8,\n        \"samples\": [\n          16.494132044426163,\n          16.5,\n          48620.0\n        ],\n        \"semantic_type\": \"\",\n        \"description\": \"\"\n      }\n    },\n    {\n      \"column\": \"total_price\",\n      \"properties\": {\n        \"dtype\": \"number\",\n        \"std\": 17181.512699811075,\n        \"min\": 4.4373975811805755,\n        \"max\": 48620.0,\n        \"num_unique_values\": 8,\n        \"samples\": [\n          16.821473673385437,\n          16.5,\n          48620.0\n        ],\n        \"semantic_type\": \"\",\n        \"description\": \"\"\n      }\n    }\n  ]\n}"
            }
          },
          "metadata": {},
          "execution_count": 182
        }
      ]
    },
    {
      "cell_type": "markdown",
      "source": [
        "# Data Processing"
      ],
      "metadata": {
        "id": "zWVDozDr0KJx"
      }
    },
    {
      "cell_type": "code",
      "source": [
        "import pandas as pd\n",
        "import numpy as np\n",
        "import xgboost as xgb\n",
        "import matplotlib.pyplot as plt\n",
        "from sklearn.model_selection import train_test_split\n",
        "from sklearn.metrics import mean_absolute_error\n",
        "\n",
        "# Convert order_date to datetime\n",
        "df['order_date'] = pd.to_datetime(df['order_date'])\n",
        "\n",
        "# Aggregate daily total sales\n",
        "daily_sales = df.groupby('order_date').agg(\n",
        "    total_sales=('total_price', 'sum'),\n",
        "    total_quantity=('quantity', 'sum')\n",
        ").reset_index()\n",
        "\n",
        "# Feature engineering for daily data\n",
        "daily_sales['day'] = daily_sales['order_date'].dt.day\n",
        "daily_sales['month'] = daily_sales['order_date'].dt.month\n",
        "daily_sales['year'] = daily_sales['order_date'].dt.year\n",
        "daily_sales['weekday'] = daily_sales['order_date'].dt.weekday\n",
        "\n",
        "# Add lag features\n",
        "daily_sales['lag_1'] = daily_sales['total_sales'].shift(1)  # Yesterday's sales\n",
        "daily_sales['lag_7'] = daily_sales['total_sales'].shift(7)  # Sales from a week ago\n",
        "\n",
        "# Fill NaNs from shifting\n",
        "daily_sales.fillna(0, inplace=True)\n",
        "\n",
        "# Prepare feature matrix (X) and target variable (y)\n",
        "X = daily_sales[['day', 'month', 'year', 'weekday', 'total_quantity', 'lag_1', 'lag_7']]\n",
        "y = daily_sales['total_sales']\n",
        "\n",
        "# Train-test split\n",
        "X_train, X_test, y_train, y_test = train_test_split(X, y, test_size=0.2, random_state=42)\n",
        "\n",
        "# Train XGBoost model\n",
        "model = xgb.XGBRegressor(objective='reg:squarederror', n_estimators=500, max_depth=5, learning_rate=0.05)\n",
        "model.fit(X_train, y_train)\n",
        "\n",
        "# Predict test data\n",
        "y_pred = model.predict(X_test)\n",
        "mae = mean_absolute_error(y_test, y_pred)\n",
        "print(f'MAE: {mae}')\n",
        "\n",
        "# Predict next 30 days\n",
        "future_dates = pd.date_range(daily_sales['order_date'].max(), periods=31, freq='D')[1:]\n",
        "future_features = pd.DataFrame({\n",
        "    'day': future_dates.day,\n",
        "    'month': future_dates.month,\n",
        "    'year': future_dates.year,\n",
        "    'weekday': future_dates.weekday,\n",
        "    'total_quantity': np.mean(daily_sales['total_quantity']),  # Use avg past quantity\n",
        "    'lag_1': daily_sales['total_sales'].iloc[-1],  # Last known sales\n",
        "    'lag_7': daily_sales['total_sales'].iloc[-7]   # Sales from last week\n",
        "})\n",
        "\n",
        "# Predict future sales\n",
        "future_sales = model.predict(future_features)\n",
        "\n",
        "# Plot results\n",
        "plt.figure(figsize=(10, 5))\n",
        "plt.plot(daily_sales['order_date'], daily_sales['total_sales'], label='Actual Sales (2015)', color='blue')\n",
        "plt.plot(future_dates, future_sales, label='Predicted Sales (Next 30 Days)', color='red', linestyle='--')\n",
        "\n",
        "plt.xlabel('Date')\n",
        "plt.ylabel('Total Sales')\n",
        "plt.title('Pizza Sales Forecast')\n",
        "plt.legend()\n",
        "plt.xticks(rotation=45)\n",
        "plt.tight_layout()\n",
        "plt.show()\n"
      ],
      "metadata": {
        "colab": {
          "base_uri": "https://localhost:8080/",
          "height": 524
        },
        "id": "t4Hjx6l01iwN",
        "outputId": "96423806-f2e7-4f5b-dc9a-d1e0925308ea"
      },
      "execution_count": 189,
      "outputs": [
        {
          "output_type": "stream",
          "name": "stdout",
          "text": [
            "MAE: 42.84367743598091\n"
          ]
        },
        {
          "output_type": "display_data",
          "data": {
            "text/plain": [
              "<Figure size 1000x500 with 1 Axes>"
            ],
            "image/png": "[encoded data removed]"
          },
          "metadata": {}
        }
      ]
    }
  ]
}